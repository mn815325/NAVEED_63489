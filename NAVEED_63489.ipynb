{
  "nbformat": 4,
  "nbformat_minor": 0,
  "metadata": {
    "colab": {
      "provenance": []
    },
    "kernelspec": {
      "name": "python3",
      "display_name": "Python 3"
    },
    "language_info": {
      "name": "python"
    }
  },
  "cells": [
    {
      "cell_type": "code",
      "source": [
        "a = int(input(\"Enter the first number\"))\n",
        "b = int(input(\"Enter the second number\"))\n",
        "c=a+b\n",
        "print(\"sum :\",c)\n"
      ],
      "metadata": {
        "colab": {
          "base_uri": "https://localhost:8080/"
        },
        "id": "bJf44AhIYfV-",
        "outputId": "aacced44-f2ed-48c7-9a45-81cfa28cc9d7"
      },
      "execution_count": 1,
      "outputs": [
        {
          "output_type": "stream",
          "name": "stdout",
          "text": [
            "Enter the first number5\n",
            "Enter the second number6\n",
            "sum : 11\n"
          ]
        }
      ]
    },
    {
      "cell_type": "code",
      "source": [
        "e = float(input(\"Enter the first number\"))\n",
        "f = float(input(\"Enter the second number\"))\n",
        "g=e+f\n",
        "print(\"sum :\",g)"
      ],
      "metadata": {
        "colab": {
          "base_uri": "https://localhost:8080/"
        },
        "id": "uAxe4QZcZSvS",
        "outputId": "55d83033-da0f-46da-fe52-d4e0f564c7f3"
      },
      "execution_count": 2,
      "outputs": [
        {
          "output_type": "stream",
          "name": "stdout",
          "text": [
            "Enter the first number5\n",
            "Enter the second number6\n",
            "sum : 11.0\n"
          ]
        }
      ]
    },
    {
      "cell_type": "code",
      "source": [
        "qw = float(input(\"Enter the first number\"))\n",
        "er = float(input(\"Enter the second number\"))\n",
        "gh=qw+er\n",
        "print(\"division :\",gh)"
      ],
      "metadata": {
        "colab": {
          "base_uri": "https://localhost:8080/"
        },
        "id": "C4pX-5SWZ8Df",
        "outputId": "ba9cd26e-f911-4415-f994-6fccd684a2c4"
      },
      "execution_count": 3,
      "outputs": [
        {
          "output_type": "stream",
          "name": "stdout",
          "text": [
            "Enter the first number25\n",
            "Enter the second number5\n",
            "division : 30.0\n"
          ]
        }
      ]
    },
    {
      "cell_type": "code",
      "source": [
        "ui = float(input(\"Enter the length of the base of the triangle\"))\n",
        "iu = float(input(\"Enter the height of the triangle\"))\n",
        "AA=(ui*iu)/2\n",
        "print(\"Area of triangle :\",AA)"
      ],
      "metadata": {
        "colab": {
          "base_uri": "https://localhost:8080/"
        },
        "id": "f0pIvwIzaSBq",
        "outputId": "595894bc-39b9-4f2c-8d0b-a0cdfc76eb65"
      },
      "execution_count": 4,
      "outputs": [
        {
          "output_type": "stream",
          "name": "stdout",
          "text": [
            "Enter the length of the base of the triangle10\n",
            "Enter the height of the triangle15\n",
            "Area of triangle : 75.0\n"
          ]
        }
      ]
    },
    {
      "cell_type": "code",
      "source": [
        "celsius = int(input(\"Enter the Temperature in Celsius :\\n\"))\n",
        "fahrenheit = (9/5 * celsius) + 32\n",
        "print(\"Temperature in Fahrenheit :\", fahrenheit)\n",
        "\n"
      ],
      "metadata": {
        "colab": {
          "base_uri": "https://localhost:8080/"
        },
        "id": "bzcLvnp0bPkU",
        "outputId": "ec388f4b-a4f5-4bec-9b8d-71ff69466358"
      },
      "execution_count": 8,
      "outputs": [
        {
          "output_type": "stream",
          "name": "stdout",
          "text": [
            "Enter the Temperature in Celsius :\n",
            "37\n",
            "Temperature in Fahrenheit : 98.60000000000001\n"
          ]
        }
      ]
    },
    {
      "cell_type": "code",
      "source": [
        "type(celsius)"
      ],
      "metadata": {
        "colab": {
          "base_uri": "https://localhost:8080/"
        },
        "id": "X_NgHtGJchK9",
        "outputId": "221ef2cf-643c-49d4-e389-91711f25dabd"
      },
      "execution_count": 6,
      "outputs": [
        {
          "output_type": "execute_result",
          "data": {
            "text/plain": [
              "int"
            ]
          },
          "metadata": {},
          "execution_count": 6
        }
      ]
    },
    {
      "cell_type": "code",
      "source": [
        "type(\"Naveed\")"
      ],
      "metadata": {
        "colab": {
          "base_uri": "https://localhost:8080/"
        },
        "id": "A31M_Mkad67G",
        "outputId": "ec3e5c65-a1d1-4b0b-fcab-fac479355381"
      },
      "execution_count": 7,
      "outputs": [
        {
          "output_type": "execute_result",
          "data": {
            "text/plain": [
              "str"
            ]
          },
          "metadata": {},
          "execution_count": 7
        }
      ]
    },
    {
      "cell_type": "code",
      "source": [
        "m=int(input(\"Enter any number\"))\n",
        "print(\"Your first input type is\" ,type(m))\n",
        "n=float(input(\"Enter any point number\"))\n",
        "print(\"your second input type is\" ,type(n))\n",
        "o=str(input(\"Enter any name\"))\n",
        "print(\"you third input type is\" ,type(o))"
      ],
      "metadata": {
        "colab": {
          "base_uri": "https://localhost:8080/"
        },
        "id": "SNk9Zrwgfjg3",
        "outputId": "c491219a-ef29-4c05-e087-223fc46bec2b"
      },
      "execution_count": 15,
      "outputs": [
        {
          "output_type": "stream",
          "name": "stdout",
          "text": [
            "Enter any number12\n",
            "Your first input type is <class 'int'>\n",
            "Enter any point number11.12\n",
            "your second input type is <class 'float'>\n",
            "Enter any name\"NAVEED\"\n",
            "you third input type is <class 'str'>\n"
          ]
        }
      ]
    },
    {
      "cell_type": "code",
      "source": [
        "type(True)"
      ],
      "metadata": {
        "colab": {
          "base_uri": "https://localhost:8080/"
        },
        "id": "_NNHAeAJhZCK",
        "outputId": "8efab2d6-c516-47d5-b388-08dcac8ed06d"
      },
      "execution_count": 18,
      "outputs": [
        {
          "output_type": "execute_result",
          "data": {
            "text/plain": [
              "bool"
            ]
          },
          "metadata": {},
          "execution_count": 18
        }
      ]
    },
    {
      "cell_type": "code",
      "source": [
        "p=bool(input(\"Enter any true value\"))\n",
        "print(\"your fourth input type is\" ,type(p))"
      ],
      "metadata": {
        "colab": {
          "base_uri": "https://localhost:8080/"
        },
        "id": "K99je8v9ibGr",
        "outputId": "2bbfd753-56a5-4e0e-aa04-c362304eff21"
      },
      "execution_count": 20,
      "outputs": [
        {
          "output_type": "stream",
          "name": "stdout",
          "text": [
            "Enter any true valueTrue\n",
            "your fourth input type is <class 'bool'>\n"
          ]
        }
      ]
    },
    {
      "cell_type": "code",
      "source": [],
      "metadata": {
        "id": "0lUgnAZbifYt"
      },
      "execution_count": null,
      "outputs": []
    }
  ]
}